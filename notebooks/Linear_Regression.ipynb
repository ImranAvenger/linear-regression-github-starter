{
 "cells": [
  {
   "cell_type": "markdown",
   "id": "7a7a82a7",
   "metadata": {},
   "source": [
    "# Linear Regression — EDA & Training"
   ]
  },
  {
   "cell_type": "code",
   "execution_count": null,
   "id": "56c725ac",
   "metadata": {},
   "outputs": [],
   "source": [
    "import pandas as pd\n",
    "import matplotlib.pyplot as plt\n",
    "from sklearn.model_selection import train_test_split\n",
    "from sklearn.linear_model import LinearRegression\n",
    "from sklearn.metrics import r2_score, mean_squared_error"
   ]
  },
  {
   "cell_type": "code",
   "execution_count": null,
   "id": "01ac27eb",
   "metadata": {},
   "outputs": [],
   "source": [
    "df = pd.read_csv('../data/raw/house_prices.csv')\n",
    "df.head()"
   ]
  },
  {
   "cell_type": "code",
   "execution_count": null,
   "id": "d16149e0",
   "metadata": {},
   "outputs": [],
   "source": [
    "# Quick visualization\n",
    "ax = df.plot(kind='scatter', x='square_feet', y='price')\n",
    "plt.show()"
   ]
  },
  {
   "cell_type": "code",
   "execution_count": null,
   "id": "16807877",
   "metadata": {},
   "outputs": [],
   "source": [
    "X = df[['square_feet','bedrooms','bathrooms','age_years']]\n",
    "y = df['price']\n",
    "X_train, X_test, y_train, y_test = train_test_split(X, y, test_size=0.2, random_state=42)\n",
    "model = LinearRegression().fit(X_train, y_train)\n",
    "y_pred = model.predict(X_test)\n",
    "print('R2:', r2_score(y_test, y_pred))\n",
    "print('RMSE:', mean_squared_error(y_test, y_pred, squared=False))"
   ]
  }
 ],
 "metadata": {},
 "nbformat": 4,
 "nbformat_minor": 5
}
